{
 "cells": [
  {
   "cell_type": "code",
   "execution_count": 1,
   "metadata": {},
   "outputs": [],
   "source": [
    "import pandas as pd\n",
    "import json\n",
    "import os"
   ]
  },
  {
   "cell_type": "code",
   "execution_count": 2,
   "metadata": {},
   "outputs": [
    {
     "name": "stdout",
     "output_type": "stream",
     "text": [
      "Current Directory: /Users/kaysarulanasapurba/Desktop/Project\n"
     ]
    }
   ],
   "source": [
    "current_directory = os.getcwd()\n",
    "print(\"Current Directory:\", current_directory)"
   ]
  },
  {
   "cell_type": "code",
   "execution_count": null,
   "metadata": {},
   "outputs": [],
   "source": [
    "# TRAIN DATA Load\n",
    "train = json.loads(open('malaria/training.json').read())\n",
    "train[0]"
   ]
  },
  {
   "cell_type": "markdown",
   "metadata": {},
   "source": [
    "Tranform the Training JSON to CSV"
   ]
  },
  {
   "cell_type": "code",
   "execution_count": 3,
   "metadata": {},
   "outputs": [
    {
     "name": "stdout",
     "output_type": "stream",
     "text": [
      "                                                path  min_r  min_c  max_r  \\\n",
      "0   /images/8d02117d-6c71-4e47-b50a-6cc8d5eb1d55.png   1057   1440   1158   \n",
      "0   /images/8d02117d-6c71-4e47-b50a-6cc8d5eb1d55.png    868   1303    971   \n",
      "0   /images/8d02117d-6c71-4e47-b50a-6cc8d5eb1d55.png    578    900    689   \n",
      "0   /images/8d02117d-6c71-4e47-b50a-6cc8d5eb1d55.png    304    611    408   \n",
      "0   /images/8d02117d-6c71-4e47-b50a-6cc8d5eb1d55.png    198    881    312   \n",
      "..                                               ...    ...    ...    ...   \n",
      "0   /images/99e979d4-ee97-4d7f-9da6-00bead40db4d.png    757    520    873   \n",
      "0   /images/99e979d4-ee97-4d7f-9da6-00bead40db4d.png    308    808    406   \n",
      "0   /images/99e979d4-ee97-4d7f-9da6-00bead40db4d.png    510    453    595   \n",
      "0   /images/99e979d4-ee97-4d7f-9da6-00bead40db4d.png      0   1260     87   \n",
      "0   /images/99e979d4-ee97-4d7f-9da6-00bead40db4d.png    740      0    852   \n",
      "\n",
      "    max_c        category             ref  \n",
      "0    1540  red blood cell  red blood cell  \n",
      "0    1403  red blood cell  red blood cell  \n",
      "0    1008  red blood cell  red blood cell  \n",
      "0     713  red blood cell  red blood cell  \n",
      "0    1003  red blood cell  red blood cell  \n",
      "..    ...             ...             ...  \n",
      "0     595  red blood cell  red blood cell  \n",
      "0     900     trophozoite     trophozoite  \n",
      "0     570  red blood cell  red blood cell  \n",
      "0    1344  red blood cell  red blood cell  \n",
      "0     100  red blood cell  red blood cell  \n",
      "\n",
      "[80113 rows x 7 columns]\n"
     ]
    }
   ],
   "source": [
    "# Load JSON data from a file\n",
    "with open('./malaria/training.json', 'r') as file:\n",
    "    json_data_list = json.load(file)\n",
    "\n",
    "\n",
    "# Extracting relevant information\n",
    "# path = json_data[\"image\"][\"pathname\"]\n",
    "# objects = json_data.get(\"objects\", [])\n",
    "\n",
    "# Creating a DataFrame\n",
    "df = pd.DataFrame()\n",
    "for json_data in json_data_list:\n",
    "    # Extracting relevant information\n",
    "    path = json_data[\"image\"][\"pathname\"]\n",
    "    objects = json_data.get(\"objects\", [])\n",
    "    for obj in objects:\n",
    "        min_r = obj[\"bounding_box\"][\"minimum\"][\"r\"]\n",
    "        min_c = obj[\"bounding_box\"][\"minimum\"][\"c\"]\n",
    "        max_r = obj[\"bounding_box\"][\"maximum\"][\"r\"]\n",
    "        max_c = obj[\"bounding_box\"][\"maximum\"][\"c\"]\n",
    "        category = obj[\"category\"]\n",
    "\n",
    "        df = pd.concat([df, pd.DataFrame({\n",
    "            \"path\": [path],\n",
    "            \"min_r\": [min_r],\n",
    "            \"min_c\": [min_c],\n",
    "            \"max_r\": [max_r],\n",
    "            \"max_c\": [max_c],\n",
    "            \"category\": [category],\n",
    "            \"ref\": [category]  # Assuming ref should be the same as category\n",
    "        })])\n",
    "\n",
    "# Save DataFrame to CSV\n",
    "df.to_csv(\"./malaria/training.csv\", index=False)\n",
    "\n",
    "# Display the resulting DataFrame\n",
    "print(df)"
   ]
  },
  {
   "cell_type": "code",
   "execution_count": 4,
   "metadata": {},
   "outputs": [
    {
     "name": "stdout",
     "output_type": "stream",
     "text": [
      "                                                path  min_r  min_c  max_r  \\\n",
      "0   /images/41be1bd3-0d31-4881-bf1f-3ccdfa21ff12.jpg    576   1744    708   \n",
      "0   /images/41be1bd3-0d31-4881-bf1f-3ccdfa21ff12.jpg    863   1249    977   \n",
      "0   /images/41be1bd3-0d31-4881-bf1f-3ccdfa21ff12.jpg    210   1573    335   \n",
      "0   /images/41be1bd3-0d31-4881-bf1f-3ccdfa21ff12.jpg   1017   1124   1142   \n",
      "0   /images/41be1bd3-0d31-4881-bf1f-3ccdfa21ff12.jpg    572   1655    695   \n",
      "..                                               ...    ...    ...    ...   \n",
      "0   /images/887cc81a-bae3-4360-a115-23ae05ac3a4f.jpg   1047    694   1145   \n",
      "0   /images/887cc81a-bae3-4360-a115-23ae05ac3a4f.jpg    543   1381    617   \n",
      "0   /images/887cc81a-bae3-4360-a115-23ae05ac3a4f.jpg   1041   1725   1196   \n",
      "0   /images/887cc81a-bae3-4360-a115-23ae05ac3a4f.jpg    526    374    653   \n",
      "0   /images/887cc81a-bae3-4360-a115-23ae05ac3a4f.jpg    436     74    581   \n",
      "\n",
      "    max_c        category             ref  \n",
      "0    1883  red blood cell  red blood cell  \n",
      "0    1373  red blood cell  red blood cell  \n",
      "0    1711  red blood cell  red blood cell  \n",
      "0    1253  red blood cell  red blood cell  \n",
      "0    1763  red blood cell  red blood cell  \n",
      "..    ...             ...             ...  \n",
      "0     787  red blood cell  red blood cell  \n",
      "0    1464  red blood cell  red blood cell  \n",
      "0    1880            ring            ring  \n",
      "0     508            ring            ring  \n",
      "0     229            ring            ring  \n",
      "\n",
      "[5922 rows x 7 columns]\n"
     ]
    }
   ],
   "source": [
    "# Load JSON data from a file\n",
    "with open('./malaria/test.json', 'r') as file:\n",
    "    json_data_list = json.load(file)\n",
    "\n",
    "# Extracting relevant information\n",
    "# path = json_data[\"image\"][\"pathname\"]\n",
    "# objects = json_data.get(\"objects\", [])\n",
    "\n",
    "# Creating a DataFrame\n",
    "df = pd.DataFrame()\n",
    "for json_data in json_data_list:\n",
    "    # Extracting relevant information\n",
    "    path = json_data[\"image\"][\"pathname\"]\n",
    "    objects = json_data.get(\"objects\", [])\n",
    "    for obj in objects:\n",
    "        min_r = obj[\"bounding_box\"][\"minimum\"][\"r\"]\n",
    "        min_c = obj[\"bounding_box\"][\"minimum\"][\"c\"]\n",
    "        max_r = obj[\"bounding_box\"][\"maximum\"][\"r\"]\n",
    "        max_c = obj[\"bounding_box\"][\"maximum\"][\"c\"]\n",
    "        category = obj[\"category\"]\n",
    "\n",
    "        df = pd.concat([df, pd.DataFrame({\n",
    "            \"path\": [path],\n",
    "            \"min_r\": [min_r],\n",
    "            \"min_c\": [min_c],\n",
    "            \"max_r\": [max_r],\n",
    "            \"max_c\": [max_c],\n",
    "            \"category\": [category],\n",
    "            \"ref\": [category]  # Assuming ref should be the same as category\n",
    "        })])\n",
    "\n",
    "# Save DataFrame to CSV\n",
    "df.to_csv(\"./malaria/test.csv\", index=False)\n",
    "\n",
    "# Display the resulting DataFrame\n",
    "print(df)\n"
   ]
  }
 ],
 "metadata": {
  "kernelspec": {
   "display_name": "base",
   "language": "python",
   "name": "python3"
  },
  "language_info": {
   "codemirror_mode": {
    "name": "ipython",
    "version": 3
   },
   "file_extension": ".py",
   "mimetype": "text/x-python",
   "name": "python",
   "nbconvert_exporter": "python",
   "pygments_lexer": "ipython3",
   "version": "3.9.16"
  },
  "orig_nbformat": 4
 },
 "nbformat": 4,
 "nbformat_minor": 2
}
